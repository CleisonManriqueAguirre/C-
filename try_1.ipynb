{
 "cells": [
  {
   "cell_type": "markdown",
   "metadata": {},
   "source": [
    "# first try"
   ]
  },
  {
   "cell_type": "code",
   "execution_count": 92,
   "metadata": {},
   "outputs": [
    {
     "name": "stdout",
     "output_type": "stream",
     "text": [
      "main.cpp  mains  try_1\ttry_1.cpp  try_1.ipynb\ttry_2  try_2.cpp  try_2.ii\n"
     ]
    }
   ],
   "source": [
    "#cpp is a compiled language\n",
    "!ls"
   ]
  },
  {
   "cell_type": "code",
   "execution_count": 93,
   "metadata": {},
   "outputs": [
    {
     "name": "stdout",
     "output_type": "stream",
     "text": [
      "Overwriting try_1.cpp\n"
     ]
    }
   ],
   "source": [
    "%%writefile try_1.cpp\n",
    "\n",
    "//main is a essential function in C++ where the execution of the program starts\n",
    "int main(){\n",
    "    return 122; //keyword return o a program completed without errors\n",
    "}"
   ]
  },
  {
   "cell_type": "code",
   "execution_count": 94,
   "metadata": {},
   "outputs": [],
   "source": [
    "# gnu compile the code, translate our soource file into an executable\n",
    "!gcc try_1.cpp -o try_1"
   ]
  },
  {
   "cell_type": "code",
   "execution_count": 95,
   "metadata": {},
   "outputs": [
    {
     "name": "stdout",
     "output_type": "stream",
     "text": [
      "122\n"
     ]
    }
   ],
   "source": [
    "#other way to call\n",
    "!./try_1 ;echo $?\n",
    "#echo a mains file\n",
    "# !echo $?\n",
    "\n",
    "# the exit code of a command in a Jupyter notebook. The exit code of a command is stored in a shell variable $?. In your case, you're trying to get the exit code of the ./mains command.\n",
    "# However, in a Jupyter notebook, each cell is executed in a separate subshell. This means that the exit code of a command executed in one cell is not available in the next cell.\n",
    "# To get the exit code of a command in the same cell, you can use the echo $? command immediately after the command you're interested in. Here's how you can modify your code:\n"
   ]
  },
  {
   "cell_type": "markdown",
   "metadata": {},
   "source": [
    "# second try"
   ]
  },
  {
   "cell_type": "code",
   "execution_count": 105,
   "metadata": {},
   "outputs": [
    {
     "name": "stdout",
     "output_type": "stream",
     "text": [
      "Overwriting try_2.cpp\n"
     ]
    }
   ],
   "source": [
    "%%writefile try_2.cpp\n",
    "\n",
    "#include <iostream> //header file that allows us to work with input and output objects\n",
    "\n",
    "int main(){\n",
    "    std::cout << 1 << \" Hello\" << \" World!\\n\"; //<< std::endl; //std::cout is used to output the text \"Hello World!\" to the screen\n",
    "    return 0;\n",
    "}"
   ]
  },
  {
   "cell_type": "code",
   "execution_count": 106,
   "metadata": {},
   "outputs": [
    {
     "name": "stdout",
     "output_type": "stream",
     "text": [
      "1 Hello World!\n"
     ]
    }
   ],
   "source": [
    "# gnu compile the code, translate our soource file into an executable\n",
    "# -E stop the compilation after the preprocessing stage, output the preprocessed source code\n",
    "# !g++ -E try_2.cpp -o try_2.ii \n",
    "!g++ try_2.cpp -o try_2 ; ./try_2 #; echo $?"
   ]
  },
  {
   "cell_type": "markdown",
   "metadata": {},
   "source": [
    "# Third try"
   ]
  },
  {
   "cell_type": "code",
   "execution_count": 117,
   "metadata": {},
   "outputs": [
    {
     "name": "stdout",
     "output_type": "stream",
     "text": [
      "Overwriting try_3.cpp\n"
     ]
    }
   ],
   "source": [
    "%%writefile try_3.cpp\n",
    "\n",
    "#include <iostream>\n",
    "\n",
    "int main(){\n",
    "    int var1 = 10;\n",
    "    int var2 = 20;\n",
    "    int sum = var1 + var2;\n",
    "\n",
    "    std::cout << sum << '\\n';\n",
    "    return 0;\n",
    "}"
   ]
  },
  {
   "cell_type": "code",
   "execution_count": 122,
   "metadata": {},
   "outputs": [
    {
     "name": "stdout",
     "output_type": "stream",
     "text": [
      "30\n"
     ]
    }
   ],
   "source": [
    "!g++ try_3.cpp -o try_3 ; ./try_3 #; echo $?"
   ]
  },
  {
   "cell_type": "markdown",
   "metadata": {},
   "source": [
    "# Fourth try"
   ]
  },
  {
   "cell_type": "code",
   "execution_count": 131,
   "metadata": {},
   "outputs": [
    {
     "name": "stdout",
     "output_type": "stream",
     "text": [
      "Overwriting try_4.cpp\n"
     ]
    }
   ],
   "source": [
    "%%writefile try_4.cpp\n",
    "\n",
    "#include <iostream>\n",
    "\n",
    "int main(){\n",
    "    int var; //doesnt have the context of a variable\n",
    "    auto var1 = 10.2; //initialization of a variable\n",
    "    auto var2 = 20.3;\n",
    "    auto sum = var1 + var2;\n",
    "\n",
    "    std::cout << sum << '\\n';\n",
    "    return 0;\n",
    "}"
   ]
  },
  {
   "cell_type": "code",
   "execution_count": 132,
   "metadata": {},
   "outputs": [
    {
     "name": "stdout",
     "output_type": "stream",
     "text": [
      "30.5\n"
     ]
    }
   ],
   "source": [
    "!g++ try_4.cpp -o try_4 ; ./try_4 #; echo $?"
   ]
  },
  {
   "cell_type": "markdown",
   "metadata": {},
   "source": [
    "# Fifth try if"
   ]
  },
  {
   "cell_type": "code",
   "execution_count": 26,
   "metadata": {},
   "outputs": [
    {
     "name": "stdout",
     "output_type": "stream",
     "text": [
      "Overwriting try_5.cpp\n"
     ]
    }
   ],
   "source": [
    "%%writefile try_5.cpp\n",
    "#include <iostream>\n",
    "\n",
    "int main(){\n",
    "    float v_1 = 80;\n",
    "    int v_2 = 80;\n",
    "    if (v_2 < v_1) {\n",
    "        std::cout << \"youre getting weight\\n\";\n",
    "    } \n",
    "    else if(v_1 < v_2){\n",
    "        std::cout << \"skinny \\n\";\n",
    "    }\n",
    "    else{\n",
    "        std::cout << \"good\\n\";\n",
    "    }\n",
    "\n",
    "    return 0;\n",
    "}"
   ]
  },
  {
   "cell_type": "code",
   "execution_count": 27,
   "metadata": {},
   "outputs": [
    {
     "name": "stdout",
     "output_type": "stream",
     "text": [
      "good\n"
     ]
    }
   ],
   "source": [
    "!g++ try_5.cpp -o try_5 ; ./try_5 #; echo $?"
   ]
  },
  {
   "cell_type": "markdown",
   "metadata": {},
   "source": [
    "# sixth try array"
   ]
  },
  {
   "cell_type": "code",
   "execution_count": 28,
   "metadata": {},
   "outputs": [
    {
     "name": "stdout",
     "output_type": "stream",
     "text": [
      "g++ (Ubuntu 11.4.0-1ubuntu1~22.04) 11.4.0\n",
      "Copyright (C) 2021 Free Software Foundation, Inc.\n",
      "This is free software; see the source for copying conditions.  There is NO\n",
      "warranty; not even for MERCHANTABILITY or FITNESS FOR A PARTICULAR PURPOSE.\n",
      "\n"
     ]
    }
   ],
   "source": [
    "!g++ --version"
   ]
  },
  {
   "cell_type": "code",
   "execution_count": 53,
   "metadata": {},
   "outputs": [
    {
     "name": "stdout",
     "output_type": "stream",
     "text": [
      "Overwriting try_6.cpp\n"
     ]
    }
   ],
   "source": [
    "%%writefile try_6.cpp\n",
    "\n",
    "#include <iostream> \n",
    "#include <array> //template class that encapsulates fixed size arrays\n",
    "\n",
    "int main(){\n",
    "    std::array<int,3>my_array = {12,2,3};\n",
    "    std::cout << my_array.front() << '\\n';\n",
    "    std::cout << my_array[1] << '\\n';\n",
    "    std::cout << my_array.back() << '\\n';\n",
    "    std::cout << my_array.size() << '\\n';\n",
    "    return 0;\n",
    "}\n"
   ]
  },
  {
   "cell_type": "code",
   "execution_count": 54,
   "metadata": {},
   "outputs": [
    {
     "name": "stdout",
     "output_type": "stream",
     "text": [
      "12\n",
      "2\n",
      "3\n",
      "3\n"
     ]
    }
   ],
   "source": [
    "!g++ try_6.cpp -o try_6 ; ./try_6 #; echo $?"
   ]
  },
  {
   "cell_type": "markdown",
   "metadata": {},
   "source": [
    "# sevent for loops"
   ]
  },
  {
   "cell_type": "code",
   "execution_count": 78,
   "metadata": {},
   "outputs": [
    {
     "name": "stdout",
     "output_type": "stream",
     "text": [
      "Overwriting try_7.cpp\n"
     ]
    }
   ],
   "source": [
    "%%writefile try_7.cpp\n",
    " \n",
    "#include <iostream>\n",
    "#include <array>\n",
    "\n",
    "int main(){\n",
    "    std::array<int, 5> my_array = {1,2,3,4,5};\n",
    "    for(int value: my_array){\n",
    "        std::cout << \"simiilar \" << value << '\\n';\n",
    "    }\n",
    "    for(int i = 0; i < 5; i++){\n",
    "        std::cout << my_array[i] << '\\n';\n",
    "    }\n",
    "    for(int i = 0; i < 10; i++){\n",
    "        std::cout << \"Iteration \" << i << '\\n';\n",
    "    }\n",
    "    return 0;\n",
    "}"
   ]
  },
  {
   "cell_type": "code",
   "execution_count": 79,
   "metadata": {},
   "outputs": [
    {
     "name": "stdout",
     "output_type": "stream",
     "text": [
      "simiilar 1\n",
      "simiilar 2\n",
      "simiilar 3\n",
      "simiilar 4\n",
      "simiilar 5\n",
      "1\n",
      "2\n",
      "3\n",
      "4\n",
      "5\n",
      "Iteration 0\n",
      "Iteration 1\n",
      "Iteration 2\n",
      "Iteration 3\n",
      "Iteration 4\n",
      "Iteration 5\n",
      "Iteration 6\n",
      "Iteration 7\n",
      "Iteration 8\n",
      "Iteration 9\n"
     ]
    }
   ],
   "source": [
    "!c++ try_7.cpp -o try_7 ; ./try_7 #; echo $?"
   ]
  },
  {
   "cell_type": "markdown",
   "metadata": {},
   "source": [
    "# Eigth code while"
   ]
  },
  {
   "cell_type": "code",
   "execution_count": 85,
   "metadata": {},
   "outputs": [
    {
     "name": "stdout",
     "output_type": "stream",
     "text": [
      "Overwriting try_8.cpp\n"
     ]
    }
   ],
   "source": [
    "%%writefile try_8.cpp\n",
    "#include <iostream>\n",
    "\n",
    "int main(){\n",
    "    int i = 10;\n",
    "    while(i > 1){\n",
    "        std::cout << i << '\\n';\n",
    "        i--;\n",
    "    }\n",
    "    return 0;\n",
    "}\n"
   ]
  },
  {
   "cell_type": "code",
   "execution_count": 86,
   "metadata": {},
   "outputs": [
    {
     "name": "stdout",
     "output_type": "stream",
     "text": [
      "10\n",
      "9\n",
      "8\n",
      "7\n",
      "6\n",
      "5\n",
      "4\n",
      "3\n",
      "2\n"
     ]
    }
   ],
   "source": [
    "!g++ try_8.cpp -o try_8 ; ./try_8 #; echo $?"
   ]
  },
  {
   "cell_type": "markdown",
   "metadata": {},
   "source": [
    "# Nineth code while loop"
   ]
  },
  {
   "cell_type": "code",
   "execution_count": 98,
   "metadata": {},
   "outputs": [
    {
     "name": "stdout",
     "output_type": "stream",
     "text": [
      "Overwriting try_9.cpp\n"
     ]
    }
   ],
   "source": [
    "%%writefile try_9.cpp\n",
    "#include <iostream>\n",
    "//do while loop is usufull when you want to execute the loop at least once\n",
    "int main(){\n",
    "    int work_items = 0;\n",
    "    do{\n",
    "        std::cout << work_items << '\\n';\n",
    "        work_items++;\n",
    "    } \n",
    "    while(work_items < 10);\n",
    "    return 0;\n",
    "}"
   ]
  },
  {
   "cell_type": "code",
   "execution_count": 96,
   "metadata": {},
   "outputs": [
    {
     "name": "stdout",
     "output_type": "stream",
     "text": [
      "0\n",
      "1\n",
      "2\n",
      "3\n",
      "4\n",
      "5\n",
      "6\n",
      "7\n",
      "8\n",
      "9\n"
     ]
    }
   ],
   "source": [
    "!g++ try_9.cpp -o try_9 ; ./try_9 #; echo $?"
   ]
  },
  {
   "cell_type": "code",
   "execution_count": null,
   "metadata": {},
   "outputs": [],
   "source": []
  }
 ],
 "metadata": {
  "kernelspec": {
   "display_name": "Python 3",
   "language": "python",
   "name": "python3"
  },
  "language_info": {
   "codemirror_mode": {
    "name": "ipython",
    "version": 3
   },
   "file_extension": ".py",
   "mimetype": "text/x-python",
   "name": "python",
   "nbconvert_exporter": "python",
   "pygments_lexer": "ipython3",
   "version": "3.10.12"
  }
 },
 "nbformat": 4,
 "nbformat_minor": 2
}
