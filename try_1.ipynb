{
 "cells": [
  {
   "cell_type": "markdown",
   "metadata": {},
   "source": [
    "# first try"
   ]
  },
  {
   "cell_type": "code",
   "execution_count": 92,
   "metadata": {},
   "outputs": [
    {
     "name": "stdout",
     "output_type": "stream",
     "text": [
      "main.cpp  mains  try_1\ttry_1.cpp  try_1.ipynb\ttry_2  try_2.cpp  try_2.ii\n"
     ]
    }
   ],
   "source": [
    "#cpp is a compiled language\n",
    "!ls"
   ]
  },
  {
   "cell_type": "code",
   "execution_count": 93,
   "metadata": {},
   "outputs": [
    {
     "name": "stdout",
     "output_type": "stream",
     "text": [
      "Overwriting try_1.cpp\n"
     ]
    }
   ],
   "source": [
    "%%writefile try_1.cpp\n",
    "\n",
    "//main is a essential function in C++ where the execution of the program starts\n",
    "int main(){\n",
    "    return 122; //keyword return o a program completed without errors\n",
    "}"
   ]
  },
  {
   "cell_type": "code",
   "execution_count": 94,
   "metadata": {},
   "outputs": [],
   "source": [
    "# gnu compile the code, translate our soource file into an executable\n",
    "!gcc try_1.cpp -o try_1"
   ]
  },
  {
   "cell_type": "code",
   "execution_count": 95,
   "metadata": {},
   "outputs": [
    {
     "name": "stdout",
     "output_type": "stream",
     "text": [
      "122\n"
     ]
    }
   ],
   "source": [
    "#other way to call\n",
    "!./try_1 ;echo $?\n",
    "#echo a mains file\n",
    "# !echo $?\n",
    "\n",
    "# the exit code of a command in a Jupyter notebook. The exit code of a command is stored in a shell variable $?. In your case, you're trying to get the exit code of the ./mains command.\n",
    "# However, in a Jupyter notebook, each cell is executed in a separate subshell. This means that the exit code of a command executed in one cell is not available in the next cell.\n",
    "# To get the exit code of a command in the same cell, you can use the echo $? command immediately after the command you're interested in. Here's how you can modify your code:\n"
   ]
  },
  {
   "cell_type": "markdown",
   "metadata": {},
   "source": [
    "# second try"
   ]
  },
  {
   "cell_type": "code",
   "execution_count": 105,
   "metadata": {},
   "outputs": [
    {
     "name": "stdout",
     "output_type": "stream",
     "text": [
      "Overwriting try_2.cpp\n"
     ]
    }
   ],
   "source": [
    "%%writefile try_2.cpp\n",
    "\n",
    "#include <iostream> //header file that allows us to work with input and output objects\n",
    "\n",
    "int main(){\n",
    "    std::cout << 1 << \" Hello\" << \" World!\\n\"; //<< std::endl; //std::cout is used to output the text \"Hello World!\" to the screen\n",
    "    return 0;\n",
    "}"
   ]
  },
  {
   "cell_type": "code",
   "execution_count": 106,
   "metadata": {},
   "outputs": [
    {
     "name": "stdout",
     "output_type": "stream",
     "text": [
      "1 Hello World!\n"
     ]
    }
   ],
   "source": [
    "# gnu compile the code, translate our soource file into an executable\n",
    "# -E stop the compilation after the preprocessing stage, output the preprocessed source code\n",
    "# !g++ -E try_2.cpp -o try_2.ii \n",
    "!g++ try_2.cpp -o try_2 ; ./try_2 #; echo $?"
   ]
  },
  {
   "cell_type": "markdown",
   "metadata": {},
   "source": [
    "# Third try"
   ]
  },
  {
   "cell_type": "code",
   "execution_count": 117,
   "metadata": {},
   "outputs": [
    {
     "name": "stdout",
     "output_type": "stream",
     "text": [
      "Overwriting try_3.cpp\n"
     ]
    }
   ],
   "source": [
    "%%writefile try_3.cpp\n",
    "\n",
    "#include <iostream>\n",
    "\n",
    "int main(){\n",
    "    int var1 = 10;\n",
    "    int var2 = 20;\n",
    "    int sum = var1 + var2;\n",
    "\n",
    "    std::cout << sum << '\\n';\n",
    "    return 0;\n",
    "}"
   ]
  },
  {
   "cell_type": "code",
   "execution_count": 122,
   "metadata": {},
   "outputs": [
    {
     "name": "stdout",
     "output_type": "stream",
     "text": [
      "30\n"
     ]
    }
   ],
   "source": [
    "!g++ try_3.cpp -o try_3 ; ./try_3 #; echo $?"
   ]
  },
  {
   "cell_type": "markdown",
   "metadata": {},
   "source": [
    "# Fourth try"
   ]
  },
  {
   "cell_type": "code",
   "execution_count": 131,
   "metadata": {},
   "outputs": [
    {
     "name": "stdout",
     "output_type": "stream",
     "text": [
      "Overwriting try_4.cpp\n"
     ]
    }
   ],
   "source": [
    "%%writefile try_4.cpp\n",
    "\n",
    "#include <iostream>\n",
    "\n",
    "int main(){\n",
    "    int var; //doesnt have the context of a variable\n",
    "    auto var1 = 10.2; //initialization of a variable\n",
    "    auto var2 = 20.3;\n",
    "    auto sum = var1 + var2;\n",
    "\n",
    "    std::cout << sum << '\\n';\n",
    "    return 0;\n",
    "}"
   ]
  },
  {
   "cell_type": "code",
   "execution_count": 132,
   "metadata": {},
   "outputs": [
    {
     "name": "stdout",
     "output_type": "stream",
     "text": [
      "30.5\n"
     ]
    }
   ],
   "source": [
    "!g++ try_4.cpp -o try_4 ; ./try_4 #; echo $?"
   ]
  },
  {
   "cell_type": "markdown",
   "metadata": {},
   "source": [
    "# Fifth try if"
   ]
  },
  {
   "cell_type": "code",
   "execution_count": 26,
   "metadata": {},
   "outputs": [
    {
     "name": "stdout",
     "output_type": "stream",
     "text": [
      "Overwriting try_5.cpp\n"
     ]
    }
   ],
   "source": [
    "%%writefile try_5.cpp\n",
    "#include <iostream>\n",
    "\n",
    "int main(){\n",
    "    float v_1 = 80;\n",
    "    int v_2 = 80;\n",
    "    if (v_2 < v_1) {\n",
    "        std::cout << \"youre getting weight\\n\";\n",
    "    } \n",
    "    else if(v_1 < v_2){\n",
    "        std::cout << \"skinny \\n\";\n",
    "    }\n",
    "    else{\n",
    "        std::cout << \"good\\n\";\n",
    "    }\n",
    "\n",
    "    return 0;\n",
    "}"
   ]
  },
  {
   "cell_type": "code",
   "execution_count": 27,
   "metadata": {},
   "outputs": [
    {
     "name": "stdout",
     "output_type": "stream",
     "text": [
      "good\n"
     ]
    }
   ],
   "source": [
    "!g++ try_5.cpp -o try_5 ; ./try_5 #; echo $?"
   ]
  },
  {
   "cell_type": "markdown",
   "metadata": {},
   "source": [
    "# sixth try array"
   ]
  },
  {
   "cell_type": "code",
   "execution_count": 28,
   "metadata": {},
   "outputs": [
    {
     "name": "stdout",
     "output_type": "stream",
     "text": [
      "g++ (Ubuntu 11.4.0-1ubuntu1~22.04) 11.4.0\n",
      "Copyright (C) 2021 Free Software Foundation, Inc.\n",
      "This is free software; see the source for copying conditions.  There is NO\n",
      "warranty; not even for MERCHANTABILITY or FITNESS FOR A PARTICULAR PURPOSE.\n",
      "\n"
     ]
    }
   ],
   "source": [
    "!g++ --version"
   ]
  },
  {
   "cell_type": "code",
   "execution_count": 53,
   "metadata": {},
   "outputs": [
    {
     "name": "stdout",
     "output_type": "stream",
     "text": [
      "Overwriting try_6.cpp\n"
     ]
    }
   ],
   "source": [
    "%%writefile try_6.cpp\n",
    "\n",
    "#include <iostream> \n",
    "#include <array> //template class that encapsulates fixed size arrays\n",
    "\n",
    "int main(){\n",
    "    std::array<int,3>my_array = {12,2,3};\n",
    "    std::cout << my_array.front() << '\\n';\n",
    "    std::cout << my_array[1] << '\\n';\n",
    "    std::cout << my_array.back() << '\\n';\n",
    "    std::cout << my_array.size() << '\\n';\n",
    "    return 0;\n",
    "}\n"
   ]
  },
  {
   "cell_type": "code",
   "execution_count": 54,
   "metadata": {},
   "outputs": [
    {
     "name": "stdout",
     "output_type": "stream",
     "text": [
      "12\n",
      "2\n",
      "3\n",
      "3\n"
     ]
    }
   ],
   "source": [
    "!g++ try_6.cpp -o try_6 ; ./try_6 #; echo $?"
   ]
  },
  {
   "cell_type": "markdown",
   "metadata": {},
   "source": [
    "# sevent for loops"
   ]
  },
  {
   "cell_type": "code",
   "execution_count": 78,
   "metadata": {},
   "outputs": [
    {
     "name": "stdout",
     "output_type": "stream",
     "text": [
      "Overwriting try_7.cpp\n"
     ]
    }
   ],
   "source": [
    "%%writefile try_7.cpp\n",
    " \n",
    "#include <iostream>\n",
    "#include <array>\n",
    "\n",
    "int main(){\n",
    "    std::array<int, 5> my_array = {1,2,3,4,5};\n",
    "    for(int value: my_array){\n",
    "        std::cout << \"simiilar \" << value << '\\n';\n",
    "    }\n",
    "    for(int i = 0; i < 5; i++){\n",
    "        std::cout << my_array[i] << '\\n';\n",
    "    }\n",
    "    for(int i = 0; i < 10; i++){\n",
    "        std::cout << \"Iteration \" << i << '\\n';\n",
    "    }\n",
    "    return 0;\n",
    "}"
   ]
  },
  {
   "cell_type": "code",
   "execution_count": 79,
   "metadata": {},
   "outputs": [
    {
     "name": "stdout",
     "output_type": "stream",
     "text": [
      "simiilar 1\n",
      "simiilar 2\n",
      "simiilar 3\n",
      "simiilar 4\n",
      "simiilar 5\n",
      "1\n",
      "2\n",
      "3\n",
      "4\n",
      "5\n",
      "Iteration 0\n",
      "Iteration 1\n",
      "Iteration 2\n",
      "Iteration 3\n",
      "Iteration 4\n",
      "Iteration 5\n",
      "Iteration 6\n",
      "Iteration 7\n",
      "Iteration 8\n",
      "Iteration 9\n"
     ]
    }
   ],
   "source": [
    "!c++ try_7.cpp -o try_7 ; ./try_7 #; echo $?"
   ]
  },
  {
   "cell_type": "markdown",
   "metadata": {},
   "source": [
    "# Eigth code while"
   ]
  },
  {
   "cell_type": "code",
   "execution_count": 85,
   "metadata": {},
   "outputs": [
    {
     "name": "stdout",
     "output_type": "stream",
     "text": [
      "Overwriting try_8.cpp\n"
     ]
    }
   ],
   "source": [
    "%%writefile try_8.cpp\n",
    "#include <iostream>\n",
    "\n",
    "int main(){\n",
    "    int i = 10;\n",
    "    while(i > 1){\n",
    "        std::cout << i << '\\n';\n",
    "        i--;\n",
    "    }\n",
    "    return 0;\n",
    "}\n"
   ]
  },
  {
   "cell_type": "code",
   "execution_count": 86,
   "metadata": {},
   "outputs": [
    {
     "name": "stdout",
     "output_type": "stream",
     "text": [
      "10\n",
      "9\n",
      "8\n",
      "7\n",
      "6\n",
      "5\n",
      "4\n",
      "3\n",
      "2\n"
     ]
    }
   ],
   "source": [
    "!g++ try_8.cpp -o try_8 ; ./try_8 #; echo $?"
   ]
  },
  {
   "cell_type": "markdown",
   "metadata": {},
   "source": [
    "# Nineth code while loop"
   ]
  },
  {
   "cell_type": "code",
   "execution_count": 1,
   "metadata": {},
   "outputs": [
    {
     "name": "stdout",
     "output_type": "stream",
     "text": [
      "Overwriting try_9.cpp\n"
     ]
    }
   ],
   "source": [
    "%%writefile try_9.cpp\n",
    "#include <iostream>\n",
    "//do while loop is usufull when you want to execute the loop at least once\n",
    "int main(){\n",
    "    int work_items = 0;\n",
    "    do{\n",
    "        std::cout << work_items << '\\n';\n",
    "        work_items++;\n",
    "    } \n",
    "    while(work_items < 10);\n",
    "    return 0;\n",
    "}"
   ]
  },
  {
   "cell_type": "code",
   "execution_count": 2,
   "metadata": {},
   "outputs": [
    {
     "name": "stdout",
     "output_type": "stream",
     "text": [
      "0\n",
      "1\n",
      "2\n",
      "3\n",
      "4\n",
      "5\n",
      "6\n",
      "7\n",
      "8\n",
      "9\n"
     ]
    }
   ],
   "source": [
    "!g++ try_9.cpp -o try_9 ; ./try_9 #; echo $?"
   ]
  },
  {
   "cell_type": "markdown",
   "metadata": {},
   "source": [
    "# Tenth code\n"
   ]
  },
  {
   "cell_type": "code",
   "execution_count": 21,
   "metadata": {},
   "outputs": [
    {
     "name": "stdout",
     "output_type": "stream",
     "text": [
      "Overwriting tenth.cpp\n"
     ]
    }
   ],
   "source": [
    "%%writefile tenth.cpp\n",
    "\n",
    "#include <iostream>\n",
    "#include <array>\n",
    "\n",
    "void print_array(std::array<int, 5> my_array){\n",
    "    for(int value: my_array){\n",
    "        std::cout << value << '\\n';\n",
    "    }\n",
    "    std::cout << '\\n';\n",
    "}\n",
    "\n",
    "// int main(){\n",
    "//     std::array<int, 5> my_array = {1,2,3,4,5};\n",
    "//    for(int value: my_array){\n",
    "//         std::cout << value << '\\n';\n",
    "//     }\n",
    "//    std::cout << '\\n';\n",
    "\n",
    "//     std::array<int, 5> my_array2 = {6,7,8,9,10};\n",
    "//     for(int value: my_array2){\n",
    "//         std::cout << value << '\\n';\n",
    "//     }\n",
    "// }\n",
    "\n",
    "//instead of repeating the code, we can create a function\n",
    "\n",
    "int main(){\n",
    "    std::array<int, 5> my_array = {1,2,3,4,5};\n",
    "    print_array(my_array);\n",
    "    std::array<int, 5> my_array2 = {6,7,8,9,10};\n",
    "    print_array(my_array2);\n",
    "    return 0;\n",
    "}"
   ]
  },
  {
   "cell_type": "code",
   "execution_count": 22,
   "metadata": {},
   "outputs": [
    {
     "name": "stdout",
     "output_type": "stream",
     "text": [
      "1\n",
      "2\n",
      "3\n",
      "4\n",
      "5\n",
      "\n",
      "6\n",
      "7\n",
      "8\n",
      "9\n",
      "10\n",
      "\n"
     ]
    }
   ],
   "source": [
    "!g++ tenth.cpp -o tenth ; ./tenth #; echo $?"
   ]
  },
  {
   "cell_type": "markdown",
   "metadata": {},
   "source": [
    "# eleventh try for loop"
   ]
  },
  {
   "cell_type": "code",
   "execution_count": 26,
   "metadata": {},
   "outputs": [
    {
     "name": "stdout",
     "output_type": "stream",
     "text": [
      "Overwriting eleventh.cpp\n"
     ]
    }
   ],
   "source": [
    "%%writefile eleventh.cpp\n",
    "#include <iostream>\n",
    "#include <array>\n",
    "\n",
    "void sum_array(std::array<int, 5> my_array){\n",
    "    int sum = 0;\n",
    "    for(int value: my_array){\n",
    "        sum += value;\n",
    "    }\n",
    "    std::cout << sum << '\\n';\n",
    "}\n",
    "\n",
    "int main(){\n",
    "    std::array<int, 5> my_array = {1,2,3,4,5};\n",
    "    sum_array(my_array);\n",
    "    std::array<int, 5> my_array2 = {6,7,8,9,10};\n",
    "    sum_array(my_array2);\n",
    "    return 0;\n",
    "}   "
   ]
  },
  {
   "cell_type": "code",
   "execution_count": 27,
   "metadata": {},
   "outputs": [
    {
     "name": "stdout",
     "output_type": "stream",
     "text": [
      "15\n",
      "40\n"
     ]
    }
   ],
   "source": [
    "!g++ eleventh.cpp -o eleventh ; ./eleventh #; echo $?   "
   ]
  },
  {
   "cell_type": "markdown",
   "metadata": {},
   "source": [
    "# OVerloading twelve"
   ]
  },
  {
   "cell_type": "code",
   "execution_count": 89,
   "metadata": {},
   "outputs": [
    {
     "name": "stdout",
     "output_type": "stream",
     "text": [
      "Overwriting try_12.cpp\n"
     ]
    }
   ],
   "source": [
    "%%writefile try_12.cpp\n",
    "\n",
    "#include <iostream>\n",
    "#include <array>\n",
    "\n",
    "//print int array\n",
    "void print_int_array(std::array<int, 5> my_array){\n",
    "    for(auto value: my_array){\n",
    "        std::cout << value << '\\n';\n",
    "    }\n",
    "    std::cout << '\\n';\n",
    "}\n",
    "\n",
    "//print float array\n",
    "void print_float_array(std::array<float, 5> my_array){\n",
    "    for(auto value: my_array){\n",
    "        std::cout << value << '\\n';\n",
    "    }\n",
    "    std::cout << '\\n';\n",
    "}\n",
    "\n",
    "int main(){\n",
    "    std::array<int, 5> my_array = {1,2,3,4,5};\n",
    "    print_int_array(my_array);\n",
    "\n",
    "    std::array<float, 5> my_array2 = {6.5f,7.3f,8.1f,9.2f,10.2f};\n",
    "    print_float_array(my_array2);\n",
    "    return 0;\n",
    "}"
   ]
  },
  {
   "cell_type": "code",
   "execution_count": 90,
   "metadata": {},
   "outputs": [
    {
     "name": "stdout",
     "output_type": "stream",
     "text": [
      "1\n",
      "2\n",
      "3\n",
      "4\n",
      "5\n",
      "\n",
      "6.5\n",
      "7.3\n",
      "8.1\n",
      "9.2\n",
      "10.2\n",
      "\n"
     ]
    }
   ],
   "source": [
    "!g++ try_12.cpp -o try_12 ; ./try_12 #; echo $?"
   ]
  },
  {
   "cell_type": "markdown",
   "metadata": {},
   "source": [
    "# trhiteen"
   ]
  },
  {
   "cell_type": "code",
   "execution_count": 93,
   "metadata": {},
   "outputs": [
    {
     "name": "stdout",
     "output_type": "stream",
     "text": [
      "Overwriting try_13.cpp\n"
     ]
    }
   ],
   "source": [
    "%%writefile try_13.cpp\n",
    "\n",
    "#include <iostream>\n",
    "#include <array>\n",
    "\n",
    "//print int array\n",
    "void print_array(std::array<int, 5> my_array){\n",
    "    for(auto value: my_array){\n",
    "        std::cout << value << '\\n';\n",
    "    }\n",
    "    std::cout << '\\n';\n",
    "}\n",
    "\n",
    "//print float array\n",
    "void print_array(std::array<float, 5> my_array){\n",
    "    for(auto value: my_array){\n",
    "        std::cout << value << '\\n';\n",
    "    }\n",
    "    std::cout << '\\n';\n",
    "}\n",
    "\n",
    "int main(){\n",
    "    std::array<int, 5> my_array = {1,2,3,4,5};\n",
    "    print_array(my_array);\n",
    "\n",
    "    std::array<float, 5> my_array2 = {6.5f,7.3f,8.1f,9.2f,10.2f};\n",
    "    print_array(my_array2);\n",
    "    return 0;\n",
    "}"
   ]
  },
  {
   "cell_type": "code",
   "execution_count": 94,
   "metadata": {},
   "outputs": [
    {
     "name": "stdout",
     "output_type": "stream",
     "text": [
      "1\n",
      "2\n",
      "3\n",
      "4\n",
      "5\n",
      "\n",
      "6.5\n",
      "7.3\n",
      "8.1\n",
      "9.2\n",
      "10.2\n",
      "\n"
     ]
    }
   ],
   "source": [
    "!g++ try_13.cpp -o try_13 ; ./try_13 #; echo $?"
   ]
  },
  {
   "cell_type": "markdown",
   "metadata": {},
   "source": [
    "# Templates"
   ]
  },
  {
   "cell_type": "code",
   "execution_count": 85,
   "metadata": {},
   "outputs": [
    {
     "name": "stdout",
     "output_type": "stream",
     "text": [
      "Overwriting try_14.cpp\n"
     ]
    }
   ],
   "source": [
    "%%writefile try_14.cpp\n",
    "\n",
    "#include <iostream>\n",
    "#include <array>\n",
    "\n",
    "template <typename T> //template declaration\n",
    "void print_array(T array){\n",
    "    for(auto value: array){\n",
    "        std::cout << value << '\\n';\n",
    "    }\n",
    "    std::cout << '\\n';\n",
    "}\n",
    "\n",
    "int main(){\n",
    "    std::array<int, 5> my_array = {1,2,3,4,5};\n",
    "    print_array(my_array);\n",
    "\n",
    "    std::array<float, 5> my_array2 = {6.5f,7.3f,8.1f,9.2f,10.2f};\n",
    "    print_array(my_array2);\n",
    "    return 0;\n",
    "}"
   ]
  },
  {
   "cell_type": "code",
   "execution_count": 86,
   "metadata": {},
   "outputs": [
    {
     "name": "stdout",
     "output_type": "stream",
     "text": [
      "1\n",
      "2\n",
      "3\n",
      "4\n",
      "5\n",
      "\n",
      "6.5\n",
      "7.3\n",
      "8.1\n",
      "9.2\n",
      "10.2\n",
      "\n"
     ]
    }
   ],
   "source": [
    "!g++ try_14.cpp -o try_14 ; ./try_14 #; echo $?"
   ]
  },
  {
   "cell_type": "markdown",
   "metadata": {},
   "source": [
    "# new way to do tempates"
   ]
  },
  {
   "cell_type": "code",
   "execution_count": 3,
   "metadata": {},
   "outputs": [
    {
     "name": "stdout",
     "output_type": "stream",
     "text": [
      "Overwriting try_15.cpp\n"
     ]
    }
   ],
   "source": [
    "%%writefile try_15.cpp\n",
    "\n",
    "#include <iostream>\n",
    "#include <array>\n",
    "\n",
    "//template <typename T> //template declaration\n",
    "void print_array(auto array){\n",
    "    for(auto value: array){\n",
    "        std::cout << value << '\\n';\n",
    "    }\n",
    "    std::cout << '\\n';\n",
    "}\n",
    "\n",
    "int main(){\n",
    "    std::array<int, 5> my_array = {1,2,3,4,5};\n",
    "    print_array(my_array);\n",
    "\n",
    "    std::array<float, 5> my_array2 = {6.5f,7.3f,8.1f,9.2f,10.2f};\n",
    "    print_array(my_array2);\n",
    "    return 0;\n",
    "}"
   ]
  },
  {
   "cell_type": "code",
   "execution_count": 5,
   "metadata": {},
   "outputs": [
    {
     "name": "stdout",
     "output_type": "stream",
     "text": [
      "1\n",
      "2\n",
      "3\n",
      "4\n",
      "5\n",
      "\n",
      "6.5\n",
      "7.3\n",
      "8.1\n",
      "9.2\n",
      "10.2\n",
      "\n"
     ]
    }
   ],
   "source": [
    "!g++ try_15.cpp -o try_15 -std=c++20; ./try_15 #; echo $?"
   ]
  },
  {
   "cell_type": "markdown",
   "metadata": {},
   "source": [
    "# template specialization"
   ]
  },
  {
   "cell_type": "code",
   "execution_count": 6,
   "metadata": {},
   "outputs": [
    {
     "name": "stdout",
     "output_type": "stream",
     "text": [
      "Overwriting try_16.cpp\n"
     ]
    }
   ],
   "source": [
    "%%writefile try_16.cpp\n",
    "\n",
    "#include <iostream>\n",
    "#include <array>\n",
    "\n",
    "void print_array(auto array){\n",
    "    for(auto value: array){\n",
    "        std::cout << value << '\\n';\n",
    "    }\n",
    "    std::cout << '\\n';\n",
    "}\n",
    "\n",
    "template<> \n",
    "void print_array(std::array<int,3> array){  \n",
    "    std::cout << \"Printing from our specialization!\\n\";\n",
    "}\n",
    "\n",
    "int main(){\n",
    "    std::array<int, 3> my_array = {1,4,5};\n",
    "    print_array(my_array);\n",
    "\n",
    "    std::array<float, 3> my_array2 = {6.5f,7.1f,10.2f};\n",
    "    print_array(my_array2);\n",
    "    return 0;\n",
    "}"
   ]
  },
  {
   "cell_type": "code",
   "execution_count": 8,
   "metadata": {},
   "outputs": [
    {
     "name": "stdout",
     "output_type": "stream",
     "text": [
      "Printing from our specialization!\n",
      "6.5\n",
      "7.1\n",
      "10.2\n",
      "\n"
     ]
    }
   ],
   "source": [
    "!g++ try_16.cpp -o try_16 -std=c++20; ./try_16 #; echo $?"
   ]
  },
  {
   "cell_type": "code",
   "execution_count": 13,
   "metadata": {},
   "outputs": [
    {
     "name": "stdout",
     "output_type": "stream",
     "text": [
      "c++ (Ubuntu 11.4.0-1ubuntu1~22.04) 11.4.0\n",
      "Copyright (C) 2021 Free Software Foundation, Inc.\n",
      "This is free software; see the source for copying conditions.  There is NO\n",
      "warranty; not even for MERCHANTABILITY or FITNESS FOR A PARTICULAR PURPOSE.\n",
      "\n"
     ]
    }
   ],
   "source": [
    "!c++ --version"
   ]
  },
  {
   "cell_type": "code",
   "execution_count": 3,
   "metadata": {},
   "outputs": [
    {
     "name": "stdout",
     "output_type": "stream",
     "text": [
      "Listing... Done\n",
      "\u001b[32mgcc-10-base\u001b[0m/jammy-updates,jammy-security,now 10.5.0-1ubuntu1~22.04 amd64 [installed]\n",
      "\u001b[32mgcc-10-doc\u001b[0m/jammy-updates,jammy-updates,jammy-security,jammy-security,now 10.5.0-1ubuntu1~22.04 all [installed]\n",
      "\u001b[32mgcc-10\u001b[0m/jammy-updates,jammy-security,now 10.5.0-1ubuntu1~22.04 amd64 [installed]\n"
     ]
    }
   ],
   "source": [
    "!apt list --installed gcc-10* "
   ]
  },
  {
   "cell_type": "markdown",
   "metadata": {},
   "source": [
    "# Iterators"
   ]
  },
  {
   "cell_type": "code",
   "execution_count": 1,
   "metadata": {},
   "outputs": [
    {
     "name": "stdout",
     "output_type": "stream",
     "text": [
      "Overwriting try_17.cpp\n"
     ]
    }
   ],
   "source": [
    "%%writefile try_17.cpp\n",
    "\n",
    "#include <array>\n",
    "#include <iostream>\n",
    "\n",
    "//we can usr rbegin and rend to iterate through the array in reverse\n",
    "int main(){\n",
    "    std::array<int, 5> my_array = {1,2,3,4,5};\n",
    "    //without r is not reverse\n",
    "    //skip values\n",
    "    for(auto itr = my_array.rbegin()+1; itr < my_array.rend();itr+=1){\n",
    "        std::cout << *itr << ' ';\n",
    "    }\n",
    "    std::cout << '\\n';\n",
    "    return 0;\n",
    "}"
   ]
  },
  {
   "cell_type": "code",
   "execution_count": 2,
   "metadata": {},
   "outputs": [
    {
     "name": "stdout",
     "output_type": "stream",
     "text": [
      "4 3 2 1 \n"
     ]
    }
   ],
   "source": [
    "!g++ try_17.cpp -o try_17 ; ./try_17 #; echo $?"
   ]
  },
  {
   "cell_type": "markdown",
   "metadata": {},
   "source": [
    "# Sort"
   ]
  },
  {
   "cell_type": "code",
   "execution_count": 3,
   "metadata": {},
   "outputs": [
    {
     "name": "stdout",
     "output_type": "stream",
     "text": [
      "Overwriting try_18.cpp\n"
     ]
    }
   ],
   "source": [
    "%%writefile try_18.cpp\n",
    "\n",
    "#include <algorithm>\n",
    "#include <iostream>\n",
    "#include <array>\n",
    "\n",
    "void print(auto array){\n",
    "    for(auto value: array){\n",
    "        std::cout << value << ' ';\n",
    "    }\n",
    "    std::cout << '\\n';\n",
    "}\n",
    "\n",
    "int main(){\n",
    "    std::array<int ,5> my_array = {53,21,2,85,5};\n",
    "    print(my_array);\n",
    "\n",
    "    std::sort(my_array.begin(), my_array.end());\n",
    "\n",
    "    print(my_array);\n",
    "    return 0;\n",
    "}\n",
    "\n"
   ]
  },
  {
   "cell_type": "code",
   "execution_count": 5,
   "metadata": {},
   "outputs": [
    {
     "name": "stdout",
     "output_type": "stream",
     "text": [
      "53 21 2 85 5 \n",
      "2 5 21 53 85 \n"
     ]
    }
   ],
   "source": [
    "!g++ try_18.cpp -o try_18 --std=c++20; ./try_18 #; echo $?"
   ]
  },
  {
   "cell_type": "markdown",
   "metadata": {},
   "source": [
    "# vector"
   ]
  },
  {
   "cell_type": "code",
   "execution_count": 5,
   "metadata": {},
   "outputs": [
    {
     "name": "stdout",
     "output_type": "stream",
     "text": [
      "Overwriting try_19.cpp\n"
     ]
    }
   ],
   "source": [
    "%%writefile try_19.cpp\n",
    "\n",
    "#include <iostream>\n",
    "#include <vector>\n",
    "\n",
    "void print(std::vector<int> array){\n",
    "    for(auto value: array){\n",
    "        std::cout << value << ' ';\n",
    "    }\n",
    "    std::cout << '\\n';\n",
    "}\n",
    "\n",
    "int main(){\n",
    "    std::vector<int> my_vect={1,2,3,4,5};\n",
    "    print(my_vect);\n",
    "    my_vect.push_back(6);\n",
    "    print(my_vect);\n",
    "    my_vect.pop_back();\n",
    "    print(my_vect);\n",
    "    return 0;\n",
    "}"
   ]
  },
  {
   "cell_type": "code",
   "execution_count": 6,
   "metadata": {},
   "outputs": [
    {
     "name": "stdout",
     "output_type": "stream",
     "text": [
      "1 2 3 4 5 \n",
      "1 2 3 4 5 6 \n",
      "1 2 3 4 5 \n"
     ]
    }
   ],
   "source": [
    "!g++ try_19.cpp -o try_19 ; ./try_19 #; echo $?"
   ]
  },
  {
   "cell_type": "code",
   "execution_count": 13,
   "metadata": {},
   "outputs": [
    {
     "name": "stdout",
     "output_type": "stream",
     "text": [
      "Overwriting try_20.cpp\n"
     ]
    }
   ],
   "source": [
    "%%writefile try_20.cpp\n",
    "\n",
    "#include <iostream>\n",
    "#include <vector>\n",
    "\n",
    "void print(std::vector<int> vector){\n",
    "    for(auto value: vector){\n",
    "        std::cout << value << ' ';\n",
    "    }\n",
    "    std::cout << '\\n';\n",
    "}\n",
    "\n",
    "int main(){\n",
    "    std::vector<int> my_vect;\n",
    "    my_vect.reserve(10);//reseve 10 elements in the vector\n",
    "    for(int i = 0; i < 10; i+=1){\n",
    "        std::cout << \"Size: \" << my_vect.size() << '\\n';\n",
    "        std::cout << \"Capacity: \" << my_vect.capacity() << '\\n';\n",
    "        my_vect.push_back(i);\n",
    "    }\n",
    "    return 0;\n",
    "}"
   ]
  },
  {
   "cell_type": "code",
   "execution_count": 14,
   "metadata": {},
   "outputs": [
    {
     "name": "stdout",
     "output_type": "stream",
     "text": [
      "Size: 0\n",
      "Capacity: 10\n",
      "Size: 1\n",
      "Capacity: 10\n",
      "Size: 2\n",
      "Capacity: 10\n",
      "Size: 3\n",
      "Capacity: 10\n",
      "Size: 4\n",
      "Capacity: 10\n",
      "Size: 5\n",
      "Capacity: 10\n",
      "Size: 6\n",
      "Capacity: 10\n",
      "Size: 7\n",
      "Capacity: 10\n",
      "Size: 8\n",
      "Capacity: 10\n",
      "Size: 9\n",
      "Capacity: 10\n"
     ]
    }
   ],
   "source": [
    "!g++ try_20.cpp -o try_20 ; ./try_20 #; echo $?"
   ]
  },
  {
   "cell_type": "markdown",
   "metadata": {},
   "source": [
    "# References"
   ]
  },
  {
   "cell_type": "code",
   "execution_count": 29,
   "metadata": {},
   "outputs": [
    {
     "name": "stdout",
     "output_type": "stream",
     "text": [
      "Overwriting try_21.cpp\n"
     ]
    }
   ],
   "source": [
    "%%writefile try_21.cpp\n",
    "\n",
    "#include <iostream>\n",
    "\n",
    "int main(){\n",
    "    int a=5;\n",
    "    int &b=a; // use the & to create a reference and same memory location\n",
    "    b+=1;\n",
    "\n",
    "    std::cout << \"a= \" << &a << '\\n';\n",
    "    std::cout << \"b= \"<< &b << '\\n';\n",
    "\n",
    "    return 0;\n",
    "}"
   ]
  },
  {
   "cell_type": "code",
   "execution_count": 30,
   "metadata": {},
   "outputs": [
    {
     "name": "stdout",
     "output_type": "stream",
     "text": [
      "a= 0x7ffd8bb3bd4c\n",
      "b= 0x7ffd8bb3bd4c\n"
     ]
    }
   ],
   "source": [
    "!g++ try_21.cpp -o try_21 ; ./try_21 #; echo $?"
   ]
  },
  {
   "cell_type": "markdown",
   "metadata": {},
   "source": [
    "# PASS BY REFERENCE"
   ]
  },
  {
   "cell_type": "code",
   "execution_count": 37,
   "metadata": {},
   "outputs": [
    {
     "name": "stdout",
     "output_type": "stream",
     "text": [
      "Overwriting try_22.cpp\n"
     ]
    }
   ],
   "source": [
    "%%writefile try_22.cpp\n",
    "\n",
    "#include <iostream>\n",
    "#include <vector>\n",
    "\n",
    "//using & to pass a reference to the function and not a copy\n",
    "void add_element(std::vector<int> &vector, int N){\n",
    "    for (int i = 0; i < N; i++){\n",
    "        vector.push_back(i);\n",
    "    }\n",
    "}\n",
    "\n",
    "int main(){\n",
    "    std::vector<int> my_vect;\n",
    "    add_element(my_vect, 10);\n",
    "    for(auto value: my_vect){\n",
    "        std::cout << value << ' ';\n",
    "    }\n",
    "    std::cout << '\\n';\n",
    "    return 0;\n",
    "}"
   ]
  },
  {
   "cell_type": "code",
   "execution_count": 38,
   "metadata": {},
   "outputs": [
    {
     "name": "stdout",
     "output_type": "stream",
     "text": [
      "0 1 2 3 4 5 6 7 8 9 \n"
     ]
    }
   ],
   "source": [
    "!g++ try_22.cpp -o try_22 ; ./try_22 #; echo $?"
   ]
  },
  {
   "cell_type": "markdown",
   "metadata": {},
   "source": [
    "# pointers"
   ]
  },
  {
   "cell_type": "code",
   "execution_count": 21,
   "metadata": {},
   "outputs": [
    {
     "name": "stdout",
     "output_type": "stream",
     "text": [
      "Overwriting try_23.cpp\n"
     ]
    }
   ],
   "source": [
    "%%writefile try_23.cpp\n",
    "\n",
    "#include <iostream>\n",
    "\n",
    "int main(){\n",
    "    int a=5;\n",
    "    int *b=&a; //pointer to a memory location of a variable\n",
    "    *b += 1;\n",
    "\n",
    "    std::cout << \"a= \" << a << '\\n';\n",
    "    std::cout << \"b= \"<< b << '\\n';\n",
    "\n",
    "    return 0;\n",
    "}\n"
   ]
  },
  {
   "cell_type": "code",
   "execution_count": 22,
   "metadata": {},
   "outputs": [
    {
     "name": "stdout",
     "output_type": "stream",
     "text": [
      "a= 6\n",
      "b= 0x7ffe9629662c\n"
     ]
    }
   ],
   "source": [
    "!g++ try_23.cpp -o try_23 ; ./try_23 #; echo $?"
   ]
  },
  {
   "cell_type": "markdown",
   "metadata": {},
   "source": [
    "# DYNAMIC ALLOCATIONS"
   ]
  },
  {
   "cell_type": "code",
   "execution_count": 25,
   "metadata": {},
   "outputs": [
    {
     "name": "stdout",
     "output_type": "stream",
     "text": [
      "Overwriting try_24.cpp\n"
     ]
    }
   ],
   "source": [
    "%%writefile try_24.cpp\n",
    "\n",
    "#include <iostream>\n",
    "\n",
    "int main(){\n",
    "    int *int_ptr = new int; //allocate memory for an integer\n",
    "    *int_ptr = 242 ;\n",
    "\n",
    "    std::cout << \"Value \"  << *int_ptr << '\\n';\n",
    "    std::cout << \"Address \" << int_ptr << '\\n';\n",
    "\n",
    "    delete int_ptr; //free the memory\n",
    "    return 0;\n",
    "\n",
    "}"
   ]
  },
  {
   "cell_type": "code",
   "execution_count": 26,
   "metadata": {},
   "outputs": [
    {
     "name": "stdout",
     "output_type": "stream",
     "text": [
      "Value 242\n",
      "Address 0x55e856bf9eb0\n"
     ]
    }
   ],
   "source": [
    "!g++ try_24.cpp -o try_24 ; ./try_24 #; echo $?"
   ]
  },
  {
   "cell_type": "code",
   "execution_count": 35,
   "metadata": {},
   "outputs": [
    {
     "name": "stdout",
     "output_type": "stream",
     "text": [
      "Overwriting try_24.cpp\n"
     ]
    }
   ],
   "source": [
    "%%writefile try_24.cpp\n",
    "\n",
    "#include <iostream>\n",
    "\n",
    "int main(){\n",
    "    int *int_ptr = new int[10]; //allocate memory for an integer\n",
    "    int_ptr[3] = 242 ; //print the value of the 3rd element\n",
    "\n",
    "    std::cout << \"Value \"  << int_ptr[3] << '\\n';\n",
    "    std::cout << \"Address \" << &int_ptr[3] << '\\n';\n",
    "\n",
    "    delete[] int_ptr; //free the memory\n",
    "    return 0;\n",
    "\n",
    "}"
   ]
  },
  {
   "cell_type": "code",
   "execution_count": 36,
   "metadata": {},
   "outputs": [
    {
     "name": "stdout",
     "output_type": "stream",
     "text": [
      "Value 242\n",
      "Address 0x55e60f22aebc\n"
     ]
    }
   ],
   "source": [
    "!g++ try_24.cpp -o try_24 ; ./try_24 #; echo $?"
   ]
  },
  {
   "cell_type": "markdown",
   "metadata": {},
   "source": [
    "# std::unique_ptr"
   ]
  },
  {
   "cell_type": "code",
   "execution_count": 18,
   "metadata": {},
   "outputs": [
    {
     "name": "stdout",
     "output_type": "stream",
     "text": [
      "Overwriting try_25.cpp\n"
     ]
    }
   ],
   "source": [
    "%%writefile try_25.cpp\n",
    "\n",
    "#include <iostream> \n",
    "#include <memory> //smart pointers\n",
    "\n",
    "int main(){\n",
    "    //std::unique_ptr<int[]> ptr(new int[10]);\n",
    "    auto ptr = std::make_unique<int[]>(10);\n",
    "    for (int i = 0; i < 10; i++){\n",
    "        ptr[i] =  i*i;\n",
    "    }   \n",
    "    std::cout << ptr[4] << '\\n';\n",
    "    std::cout << ptr[5] << '\\n';\n",
    "    return 0;\n",
    "}"
   ]
  },
  {
   "cell_type": "code",
   "execution_count": 19,
   "metadata": {},
   "outputs": [
    {
     "name": "stdout",
     "output_type": "stream",
     "text": [
      "16\n",
      "25\n"
     ]
    }
   ],
   "source": [
    "!g++ try_25.cpp -o try_25 ; ./try_25 #; echo $?"
   ]
  },
  {
   "cell_type": "markdown",
   "metadata": {},
   "source": [
    "# shared pointer"
   ]
  },
  {
   "cell_type": "code",
   "execution_count": 25,
   "metadata": {},
   "outputs": [
    {
     "name": "stdout",
     "output_type": "stream",
     "text": [
      "Overwriting try_26.cpp\n"
     ]
    }
   ],
   "source": [
    "%%writefile try_26.cpp\n",
    "\n",
    "#include <iostream> \n",
    "#include <memory> //smart pointers\n",
    "\n",
    "int main(){\n",
    "    \n",
    "    std::shared_ptr<int> ptr1(new int[10]);\n",
    "    auto ptr2 = ptr1;\n",
    "    std::cout << \"Reference count:\" << ptr1.use_count() << '\\n';\n",
    "    return 0;\n",
    "}"
   ]
  },
  {
   "cell_type": "code",
   "execution_count": 26,
   "metadata": {},
   "outputs": [
    {
     "name": "stdout",
     "output_type": "stream",
     "text": [
      "Reference count:2\n"
     ]
    }
   ],
   "source": [
    "!g++ try_26.cpp -o try_26 ; ./try_26 #; echo $?"
   ]
  },
  {
   "cell_type": "code",
   "execution_count": null,
   "metadata": {},
   "outputs": [],
   "source": []
  }
 ],
 "metadata": {
  "kernelspec": {
   "display_name": "Python 3",
   "language": "python",
   "name": "python3"
  },
  "language_info": {
   "codemirror_mode": {
    "name": "ipython",
    "version": 3
   },
   "file_extension": ".py",
   "mimetype": "text/x-python",
   "name": "python",
   "nbconvert_exporter": "python",
   "pygments_lexer": "ipython3",
   "version": "3.10.12"
  }
 },
 "nbformat": 4,
 "nbformat_minor": 2
}
